{
 "cells": [
  {
   "cell_type": "code",
   "execution_count": 1,
   "metadata": {
    "collapsed": true
   },
   "outputs": [],
   "source": [
    "import numpy as np\n",
    "import pandas as pd\n",
    "import os\n",
    "import scipy.stats as st\n",
    "import matplotlib.pyplot as plt\n",
    "\n",
    "%matplotlib inline"
   ]
  },
  {
   "cell_type": "code",
   "execution_count": 2,
   "metadata": {
    "collapsed": false
   },
   "outputs": [],
   "source": [
    "fdr = pd.read_csv('./permutations.csv')\n",
    "del fdr['Unnamed: 0']\n",
    "\n",
    "pval_path = './EWAS_results.csv'\n",
    "out_df = pd.read_csv(pval_path)\n",
    "\n",
    "out_df.index = out_df.varname.tolist()\n",
    "del out_df['varname']\n",
    "out_df = out_df[['p_val']]\n",
    "\n",
    "fdr = fdr.transpose()\n",
    "out_df = pd.concat([out_df, fdr], axis=1)\n",
    "out_df.columns = ['p_val']+np.arange(0,len(fdr.columns),1).tolist()\n"
   ]
  },
  {
   "cell_type": "code",
   "execution_count": 3,
   "metadata": {
    "collapsed": false
   },
   "outputs": [],
   "source": [
    "out_df3 = out_df.copy()\n",
    "out_df3 = out_df3.sort_values(by = ['p_val'])\n",
    "\n",
    "raw = []\n",
    "thre = 0.05\n",
    "n_perm = len(out_df3.columns)-1\n",
    "print 'NUMBER OF PERMUTATIONS: ', n_perm\n",
    "\n",
    "\n",
    "for i in range(len(out_df3)):\n",
    "    num = 0\n",
    "    for j in out_df3.columns[1:]:\n",
    "        num += np.sum(np.where(out_df3[j] <= out_df3.iloc[i].p_val,1,0))\n",
    "        \n",
    "    denom = np.sum(np.where(out_df3.p_val <= out_df3.iloc[i].p_val,1,0))\n",
    "    raw.append((np.float(num)/n_perm)/denom)\n"
   ]
  },
  {
   "cell_type": "code",
   "execution_count": 4,
   "metadata": {
    "collapsed": false
   },
   "outputs": [],
   "source": [
    "raw2 = []\n",
    "for i in range(len(raw)):\n",
    "    raw2.append(np.min(raw[i:]))\n",
    "out_df3['fdr'] = raw2\n",
    "out_df3 = out_df3[['p_val','fdr']]\n",
    "\n",
    "thre = 0.05\n",
    "print 'NUMBER OF SIGNIFICANT TESTS : ', thre , len(out_df3[out_df3.fdr < thre])"
   ]
  },
  {
   "cell_type": "code",
   "execution_count": 5,
   "metadata": {
    "collapsed": true
   },
   "outputs": [],
   "source": [
    "out_df3.to_csv('./fdr.csv')"
   ]
  }
 ],
 "metadata": {
  "kernelspec": {
   "display_name": "Python 2",
   "language": "python",
   "name": "python2"
  },
  "language_info": {
   "codemirror_mode": {
    "name": "ipython",
    "version": 2
   },
   "file_extension": ".py",
   "mimetype": "text/x-python",
   "name": "python",
   "nbconvert_exporter": "python",
   "pygments_lexer": "ipython2",
   "version": "2.7.13"
  }
 },
 "nbformat": 4,
 "nbformat_minor": 2
}
