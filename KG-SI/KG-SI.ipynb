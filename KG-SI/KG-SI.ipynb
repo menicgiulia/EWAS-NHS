{
 "cells": [
  {
   "cell_type": "code",
   "execution_count": null,
   "metadata": {},
   "outputs": [],
   "source": [
    "import numpy as np\n",
    "import pandas as pd\n",
    "import matplotlib.pyplot as plt\n",
    "import networkx as nx\n",
    "import os\n",
    "from matplotlib import font_manager as fm, rcParams\n",
    "\n",
    "%matplotlib inline"
   ]
  },
  {
   "cell_type": "code",
   "execution_count": null,
   "metadata": {},
   "outputs": [],
   "source": [
    "df = pd.read_excel('./KG-data.xlsx', sheet_name='ALL')\n",
    "g = nx.MultiGraph()\n",
    "\n",
    "for i in range(len(df)):\n",
    "    g.add_node(df.lab[i], mode = 'exposure', cat = df['CAT'][i])\n",
    "    g.add_node(df.phenotype[i], mode = 'phenotype')\n",
    "    \n",
    "for i in range(len(df)):\n",
    "    g.add_edges_from([(df.lab[i], df.phenotype[i], dict(effect = df.association[i]))])\n",
    "\n",
    "nx.write_gml(g, './full-KG.gml')    "
   ]
  }
 ],
 "metadata": {
  "kernelspec": {
   "display_name": "Python 2",
   "language": "python",
   "name": "python2"
  },
  "language_info": {
   "codemirror_mode": {
    "name": "ipython",
    "version": 2
   },
   "file_extension": ".py",
   "mimetype": "text/x-python",
   "name": "python",
   "nbconvert_exporter": "python",
   "pygments_lexer": "ipython2",
   "version": "2.7.15"
  }
 },
 "nbformat": 4,
 "nbformat_minor": 2
}
